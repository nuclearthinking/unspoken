{
 "cells": [
  {
   "cell_type": "code",
   "execution_count": 9,
   "id": "initial_id",
   "metadata": {
    "collapsed": true,
    "ExecuteTime": {
     "end_time": "2023-11-10T07:36:51.727766Z",
     "start_time": "2023-11-10T07:36:31.457410Z"
    }
   },
   "outputs": [
    {
     "name": "stdout",
     "output_type": "stream",
     "text": [
      "Requirement already satisfied: pip in ./venv/lib/python3.11/site-packages (23.3.1)\r\n",
      "Collecting git+https://github.com/huggingface/transformers.git\r\n",
      "  Cloning https://github.com/huggingface/transformers.git to /private/var/folders/3r/4rfdbc2d3c5_j5mbxjx6j7fr0000gn/T/pip-req-build-j69_u9cc\r\n",
      "  Running command git clone --filter=blob:none --quiet https://github.com/huggingface/transformers.git /private/var/folders/3r/4rfdbc2d3c5_j5mbxjx6j7fr0000gn/T/pip-req-build-j69_u9cc\r\n",
      "  Resolved https://github.com/huggingface/transformers.git to commit cf32c941350cb296e4c2c9e26a9274291d515e90\r\n",
      "  Installing build dependencies ... \u001B[?25ldone\r\n",
      "\u001B[?25h  Getting requirements to build wheel ... \u001B[?25ldone\r\n",
      "\u001B[?25h  Preparing metadata (pyproject.toml) ... \u001B[?25ldone\r\n",
      "\u001B[?25hRequirement already satisfied: filelock in ./venv/lib/python3.11/site-packages (from transformers==4.36.0.dev0) (3.13.1)\r\n",
      "Requirement already satisfied: huggingface-hub<1.0,>=0.16.4 in ./venv/lib/python3.11/site-packages (from transformers==4.36.0.dev0) (0.17.3)\r\n",
      "Requirement already satisfied: numpy>=1.17 in ./venv/lib/python3.11/site-packages (from transformers==4.36.0.dev0) (1.26.1)\r\n",
      "Requirement already satisfied: packaging>=20.0 in ./venv/lib/python3.11/site-packages (from transformers==4.36.0.dev0) (23.2)\r\n",
      "Requirement already satisfied: pyyaml>=5.1 in ./venv/lib/python3.11/site-packages (from transformers==4.36.0.dev0) (6.0.1)\r\n",
      "Requirement already satisfied: regex!=2019.12.17 in ./venv/lib/python3.11/site-packages (from transformers==4.36.0.dev0) (2023.10.3)\r\n",
      "Requirement already satisfied: requests in ./venv/lib/python3.11/site-packages (from transformers==4.36.0.dev0) (2.31.0)\r\n",
      "Collecting tokenizers<0.15,>=0.14 (from transformers==4.36.0.dev0)\r\n",
      "  Using cached tokenizers-0.14.1-cp311-cp311-macosx_11_0_arm64.whl.metadata (6.7 kB)\r\n",
      "Requirement already satisfied: safetensors>=0.3.1 in ./venv/lib/python3.11/site-packages (from transformers==4.36.0.dev0) (0.4.0)\r\n",
      "Requirement already satisfied: tqdm>=4.27 in ./venv/lib/python3.11/site-packages (from transformers==4.36.0.dev0) (4.66.1)\r\n",
      "Requirement already satisfied: fsspec in ./venv/lib/python3.11/site-packages (from huggingface-hub<1.0,>=0.16.4->transformers==4.36.0.dev0) (2023.10.0)\r\n",
      "Requirement already satisfied: typing-extensions>=3.7.4.3 in ./venv/lib/python3.11/site-packages (from huggingface-hub<1.0,>=0.16.4->transformers==4.36.0.dev0) (4.8.0)\r\n",
      "Requirement already satisfied: charset-normalizer<4,>=2 in ./venv/lib/python3.11/site-packages (from requests->transformers==4.36.0.dev0) (3.3.2)\r\n",
      "Requirement already satisfied: idna<4,>=2.5 in ./venv/lib/python3.11/site-packages (from requests->transformers==4.36.0.dev0) (3.4)\r\n",
      "Requirement already satisfied: urllib3<3,>=1.21.1 in ./venv/lib/python3.11/site-packages (from requests->transformers==4.36.0.dev0) (2.0.7)\r\n",
      "Requirement already satisfied: certifi>=2017.4.17 in ./venv/lib/python3.11/site-packages (from requests->transformers==4.36.0.dev0) (2023.7.22)\r\n",
      "Using cached tokenizers-0.14.1-cp311-cp311-macosx_11_0_arm64.whl (2.5 MB)\r\n",
      "Building wheels for collected packages: transformers\r\n",
      "  Building wheel for transformers (pyproject.toml) ... \u001B[?25ldone\r\n",
      "\u001B[?25h  Created wheel for transformers: filename=transformers-4.36.0.dev0-py3-none-any.whl size=7931218 sha256=08fd493120b1f367ac2b473ea6f54b170ac71b9dca03828dd0ca1562a42aca6b\r\n",
      "  Stored in directory: /private/var/folders/3r/4rfdbc2d3c5_j5mbxjx6j7fr0000gn/T/pip-ephem-wheel-cache-mohkdn3p/wheels/32/4b/78/f195c684dd3a9ed21f3b39fe8f85b48df7918581b6437be143\r\n",
      "Successfully built transformers\r\n",
      "Installing collected packages: tokenizers, transformers\r\n",
      "  Attempting uninstall: tokenizers\r\n",
      "    Found existing installation: tokenizers 0.13.3\r\n",
      "    Uninstalling tokenizers-0.13.3:\r\n",
      "      Successfully uninstalled tokenizers-0.13.3\r\n",
      "  Attempting uninstall: transformers\r\n",
      "    Found existing installation: transformers 4.29.2\r\n",
      "    Uninstalling transformers-4.29.2:\r\n",
      "      Successfully uninstalled transformers-4.29.2\r\n",
      "\u001B[31mERROR: pip's dependency resolver does not currently take into account all the packages that are installed. This behaviour is the source of the following dependency conflicts.\r\n",
      "huggingsound 0.2.0 requires transformers<=4.29.2,>=4.23.0, but you have transformers 4.36.0.dev0 which is incompatible.\u001B[0m\u001B[31m\r\n",
      "\u001B[0mSuccessfully installed tokenizers-0.14.1 transformers-4.36.0.dev0\r\n",
      "zsh:1: no matches found: datasets[audio]\r\n",
      "Requirement already satisfied: accelerate in ./venv/lib/python3.11/site-packages (0.22.0)\r\n",
      "Requirement already satisfied: numpy>=1.17 in ./venv/lib/python3.11/site-packages (from accelerate) (1.26.1)\r\n",
      "Requirement already satisfied: packaging>=20.0 in ./venv/lib/python3.11/site-packages (from accelerate) (23.2)\r\n",
      "Requirement already satisfied: psutil in ./venv/lib/python3.11/site-packages (from accelerate) (5.9.6)\r\n",
      "Requirement already satisfied: pyyaml in ./venv/lib/python3.11/site-packages (from accelerate) (6.0.1)\r\n",
      "Requirement already satisfied: torch>=1.10.0 in ./venv/lib/python3.11/site-packages (from accelerate) (2.1.0)\r\n",
      "Requirement already satisfied: filelock in ./venv/lib/python3.11/site-packages (from torch>=1.10.0->accelerate) (3.13.1)\r\n",
      "Requirement already satisfied: typing-extensions in ./venv/lib/python3.11/site-packages (from torch>=1.10.0->accelerate) (4.8.0)\r\n",
      "Requirement already satisfied: sympy in ./venv/lib/python3.11/site-packages (from torch>=1.10.0->accelerate) (1.12)\r\n",
      "Requirement already satisfied: networkx in ./venv/lib/python3.11/site-packages (from torch>=1.10.0->accelerate) (3.2.1)\r\n",
      "Requirement already satisfied: jinja2 in ./venv/lib/python3.11/site-packages (from torch>=1.10.0->accelerate) (3.1.2)\r\n",
      "Requirement already satisfied: fsspec in ./venv/lib/python3.11/site-packages (from torch>=1.10.0->accelerate) (2023.10.0)\r\n",
      "Requirement already satisfied: MarkupSafe>=2.0 in ./venv/lib/python3.11/site-packages (from jinja2->torch>=1.10.0->accelerate) (2.1.3)\r\n",
      "Requirement already satisfied: mpmath>=0.19 in ./venv/lib/python3.11/site-packages (from sympy->torch>=1.10.0->accelerate) (1.3.0)\r\n"
     ]
    }
   ],
   "source": [
    "!pip install --upgrade pip\n",
    "!pip install --upgrade git+https://github.com/huggingface/transformers.git\n",
    "!pip install datasets[audio]\n",
    "!pip install accelerate"
   ]
  },
  {
   "cell_type": "code",
   "execution_count": 10,
   "outputs": [
    {
     "name": "stderr",
     "output_type": "stream",
     "text": [
      "Special tokens have been added in the vocabulary, make sure the associated word embeddings are fine-tuned or trained.\n"
     ]
    },
    {
     "name": "stdout",
     "output_type": "stream",
     "text": [
      " Хорошо, тогда давайте погрузимся в тему резервного копирования. Расскажите, какие способы резервного копирования вы используете? Я делаю дан полностью дисков. Раньше еще снапшоты использовал вашим, но потом количество снапшотов у вас ограничили до одного, и я перестал их использовать. Потому что одного как бы мало, а большее количество я не рассматриваю. большее количество музыкально рассматриваем. А для каких потребностей вам требовалось иметь больше, чем один снапшот? У нас релизы кода создавались и было очень удобно откатывать конфигурацию. Потом мы на тестовый сервис перешли, поэтому у меня появилась такая пропала. То есть теперь получается, вы сначала просто на тестовом сервере тестируете и если что, вот у вас есть место, грубо говоря. Поэтому нам снапшопики сейчас не особенно и надо, а периодически я делаю полный дамп диск. В принципе этого достаточно. И храните это где-то у себя на ваших площадках? Да, прямо в офисе. Хорошо. А тогда знакомы ли вы с сервисом бэкапов у нас? наверное, нет. Я видел там в рассылке, но как-то не удосужился более внимательно это все дело изучить. А какие у вас, может быть, есть в целом требования к решениям для резервного копирования? Требовала бы. Ну, там, например, репликации, шифрование, раз у вас как раз медицинские исследования, что... Они шифровываются у нас, сервера, они шифрованы. Ну, и ресурсы, которые необходимы, они шифровываются. Те ресурсы, которые необходимы, они шифрованы. То есть где-то на вашей стороне шифрование происходит? Ну и на нашей стороне, и те ресурсы, которые в области, тоже шифрованы.\n"
     ]
    }
   ],
   "source": [
    "import torch\n",
    "from transformers import AutoModelForSpeechSeq2Seq, AutoProcessor, pipeline\n",
    "\n",
    "\n",
    "device = \"cuda:0\" if torch.cuda.is_available() else \"cpu\"\n",
    "torch_dtype = torch.float16 if torch.cuda.is_available() else torch.float32\n",
    "\n",
    "model_id = \"openai/whisper-large-v3\"\n",
    "\n",
    "model = AutoModelForSpeechSeq2Seq.from_pretrained(\n",
    "    model_id, torch_dtype=torch_dtype, low_cpu_mem_usage=True, use_safetensors=True\n",
    ")\n",
    "model.to(device)\n",
    "\n",
    "processor = AutoProcessor.from_pretrained(model_id)\n",
    "\n",
    "pipe = pipeline(\n",
    "    \"automatic-speech-recognition\",\n",
    "    model=model,\n",
    "    tokenizer=processor.tokenizer,\n",
    "    feature_extractor=processor.feature_extractor,\n",
    "    max_new_tokens=128,\n",
    "    chunk_length_s=30,\n",
    "    batch_size=16,\n",
    "    return_timestamps=True,\n",
    "    torch_dtype=torch_dtype,\n",
    "    device=device,\n",
    ")\n",
    "\n",
    "\n",
    "result = pipe('sample_2.mp3', )\n",
    "\n",
    "print(result[\"text\"])\n"
   ],
   "metadata": {
    "collapsed": false,
    "ExecuteTime": {
     "end_time": "2023-11-10T07:39:43.629221Z",
     "start_time": "2023-11-10T07:36:59.273165Z"
    }
   },
   "id": "ef0fb95e00238c7b"
  },
  {
   "cell_type": "code",
   "execution_count": 8,
   "outputs": [
    {
     "name": "stdout",
     "output_type": "stream",
     "text": [
      "{'text': ' Хорошо, тогда давайте погрузимся в тему резервного копирования. Расскажите, какие способы резервного копирования вы используете? Я делаю дам полностью дисков. Раньше еще снапшоты использовал вашим, но потом количество снапшотов у вас ограничили до одного, и я перестал пользоваться, потому что одного как бы мало, а большее количество не рассматриваю. А для каких потребностей вам требовалось иметь больше, чем один снапшот на диск? У нас релизы кода создавались, и было очень удобно откатывать конфигурацию. Потом мы, в принципе, на тестовый сервере тестируете и как бы весу что вот у вас есть место грубо говоря Поэтому нам snapshot сейчас не особенно надо, а периодически я делаю полный dump-диск. Просто периодически. В принципе, этого достаточно. Наверное. И храните это где-то у себя на ваших площадках? Да, в офисе. Хорошо. Тогда знакомы ли вы с сервисом бэкапов у нас? Нет, наверное, нет. Я видел там в рассылке, как-то не удосужился более внимательно это все дело изучить. По вашим дешевых бэкапах. Ну, не использую. А какие у вас, может быть, есть в целом требования к решениям для резервного копирования? Требования? Требовала. Ну, там, например, репликация, или, может, шифрование, раз у вас как раз медицинские исследования, что... Они шифруются у нас, сервера. Они шифрованы. Ну, и ресурсы, которые необходимы, они шифруются. То есть где-то на вашей стороне шифрование происходит? Ну и на нашей стороне, и те ресурсы, которые в области, тоже шифрованы. Ну, требовалось.', 'chunks': [{'timestamp': (0.0, 7.7), 'text': ' Хорошо, тогда давайте погрузимся в тему резервного копирования.'}, {'timestamp': (8.34, 11.94), 'text': ' Расскажите, какие способы резервного копирования вы используете?'}, {'timestamp': (16.3, 32.5), 'text': ' Я делаю дам полностью дисков. Раньше еще снапшоты использовал вашим, но потом количество снапшотов у вас ограничили до одного,'}, {'timestamp': (32.5, 42.24), 'text': ' и я перестал пользоваться, потому что одного как бы мало, а большее количество не рассматриваю.'}, {'timestamp': (44.04, 50.98), 'text': ' А для каких потребностей вам требовалось иметь больше, чем один снапшот на диск?'}, {'timestamp': (50.98, 60.04), 'text': ' У нас релизы кода создавались, и было очень удобно откатывать конфигурацию.'}, {'timestamp': (63.02, 74.94), 'text': ' Потом мы, в принципе, на тестовый сервере тестируете и как бы весу'}, {'timestamp': (74.94, 95.8), 'text': ' что вот у вас есть место грубо говоря Поэтому нам snapshot сейчас не особенно надо, а периодически я делаю полный dump-диск.'}, {'timestamp': (95.8, 99.88), 'text': ' Просто периодически. В принципе, этого достаточно. Наверное.'}, {'timestamp': (101.36, 105.06), 'text': ' И храните это где-то у себя на ваших площадках?'}, {'timestamp': (105.26, 107.2), 'text': ' Да, в офисе.'}, {'timestamp': (109.88, 115.94), 'text': ' Хорошо. Тогда знакомы ли вы с сервисом бэкапов у нас?'}, {'timestamp': (119.24, 120.88), 'text': ' Нет, наверное, нет.'}, {'timestamp': (122.98, 125.72), 'text': ' Я видел там в рассылке,'}, {'timestamp': (127.34, 128.78), 'text': ' как-то не удосужился более внимательно'}, {'timestamp': (128.78, 130.5), 'text': ' это все дело изучить.'}, {'timestamp': (131.06, 132.5), 'text': ' По вашим дешевых бэкапах.'}, {'timestamp': (134.42, 135.24), 'text': ' Ну, не использую.'}, {'timestamp': (136.82, 139.12), 'text': ' А какие у вас, может быть,'}, {'timestamp': (139.14, 141.2), 'text': ' есть в целом требования к решениям'}, {'timestamp': (141.2, 142.5), 'text': ' для резервного копирования?'}, {'timestamp': (146.12, 146.6), 'text': ' Требования? Требовала.'}, {'timestamp': (148.82, 152.06), 'text': ' Ну, там, например, репликация, или, может, шифрование,'}, {'timestamp': (152.14, 154.78), 'text': ' раз у вас как раз медицинские исследования, что...'}, {'timestamp': (154.78, 156.94), 'text': ' Они шифруются у нас, сервера.'}, {'timestamp': (156.98, 158.4), 'text': ' Они шифрованы.'}, {'timestamp': (159.6, 162.94), 'text': ' Ну, и ресурсы, которые необходимы, они шифруются.'}, {'timestamp': (166.14, 169.28), 'text': ' То есть где-то на вашей стороне шифрование происходит?'}, {'timestamp': (169.8, 175.38), 'text': ' Ну и на нашей стороне, и те ресурсы, которые в области, тоже шифрованы.'}, {'timestamp': (178.56, 179.76), 'text': ' Ну, требовалось.'}]}\n"
     ]
    }
   ],
   "source": [
    "print(result)"
   ],
   "metadata": {
    "collapsed": false,
    "ExecuteTime": {
     "end_time": "2023-11-09T21:02:02.083496Z",
     "start_time": "2023-11-09T21:02:02.060632Z"
    }
   },
   "id": "151943c8d46a81a1"
  },
  {
   "cell_type": "code",
   "execution_count": null,
   "outputs": [],
   "source": [],
   "metadata": {
    "collapsed": false
   },
   "id": "5cbc499d73e604b6"
  }
 ],
 "metadata": {
  "kernelspec": {
   "display_name": "Python 3",
   "language": "python",
   "name": "python3"
  },
  "language_info": {
   "codemirror_mode": {
    "name": "ipython",
    "version": 2
   },
   "file_extension": ".py",
   "mimetype": "text/x-python",
   "name": "python",
   "nbconvert_exporter": "python",
   "pygments_lexer": "ipython2",
   "version": "2.7.6"
  }
 },
 "nbformat": 4,
 "nbformat_minor": 5
}
